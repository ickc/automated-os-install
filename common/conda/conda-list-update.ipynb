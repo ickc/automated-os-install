{
 "cells": [
  {
   "cell_type": "code",
   "execution_count": null,
   "metadata": {},
   "outputs": [],
   "source": [
    "import os\n",
    "import subprocess\n",
    "\n",
    "from operator import or_\n",
    "from pprint import pprint\n",
    "from functools import reduce"
   ]
  },
  {
   "cell_type": "code",
   "execution_count": null,
   "metadata": {},
   "outputs": [],
   "source": [
    "import pandas as pd\n",
    "import ujson"
   ]
  },
  {
   "cell_type": "code",
   "execution_count": null,
   "metadata": {},
   "outputs": [],
   "source": [
    "from conda.cli.python_api import run_command, Commands\n",
    "from conda.history import History"
   ]
  },
  {
   "cell_type": "code",
   "execution_count": null,
   "metadata": {},
   "outputs": [],
   "source": [
    "def get_all_conda_envs():\n",
    "    '''return all conda environment paths excluding base/root\n",
    "\n",
    "    using conda's Python API\n",
    "    '''\n",
    "    return [\n",
    "        env\n",
    "        for env in ujson.loads(run_command(Commands.INFO, '--json')[0])['envs']\n",
    "        if '/envs/' in env # filter out the root/base env\n",
    "    ]"
   ]
  },
  {
   "cell_type": "code",
   "execution_count": null,
   "metadata": {},
   "outputs": [],
   "source": [
    "def conda_list(env):\n",
    "    '''return a DataFrame representation of ``conda list`` for environment at `env`\n",
    "\n",
    "    this one uses the conda Python API that excludes pip installed packages\n",
    "    '''\n",
    "    temp = ujson.loads(run_command(Commands.LIST, '--prefix', env, '--json')[0])\n",
    "    df = pd.DataFrame(temp)\n",
    "    df.set_index('name', inplace=True)\n",
    "    return df"
   ]
  },
  {
   "cell_type": "code",
   "execution_count": null,
   "metadata": {},
   "outputs": [],
   "source": [
    "def conda_list_subprocess(env):\n",
    "    '''return a DataFrame representation of ``conda list`` for environment at `env`\n",
    "\n",
    "    this one uses the cli directly that includes pip installed packages\n",
    "    '''\n",
    "    temp = ujson.loads(subprocess.run(('conda', 'list', '--prefix', env, '--json'), stdout=subprocess.PIPE).stdout)\n",
    "    df = pd.DataFrame(temp)\n",
    "    df.set_index('name', inplace=True)\n",
    "    return df"
   ]
  },
  {
   "cell_type": "code",
   "execution_count": null,
   "metadata": {},
   "outputs": [],
   "source": [
    "def get_user_installed_packages(env):\n",
    "    '''return user installed packages in prefix `env`\n",
    "\n",
    "    using undocumented conda Python API, see\n",
    "    https://github.com/conda/conda/issues/4545#issuecomment-469984684\n",
    "    '''\n",
    "    history = History(env)\n",
    "    return history.get_requested_specs_map().keys()"
   ]
  },
  {
   "cell_type": "code",
   "execution_count": null,
   "metadata": {},
   "outputs": [],
   "source": [
    "def filter_channels(env, channels=('pypi',)):\n",
    "    '''return packages from `channels` in environment `env`\n",
    "    '''\n",
    "    df = conda_list_subprocess(env)\n",
    "    return df[df.channel.isin(channels)].index"
   ]
  },
  {
   "cell_type": "code",
   "execution_count": null,
   "metadata": {},
   "outputs": [],
   "source": [
    "def remove_element(list_, elements):\n",
    "    '''filter out items in `list_` that contains element in `elements`\n",
    "    '''\n",
    "    return [\n",
    "        item for item in list_\n",
    "        if not reduce(\n",
    "            or_,\n",
    "            (element in item for element in elements)\n",
    "        )\n",
    "    ]"
   ]
  },
  {
   "cell_type": "code",
   "execution_count": null,
   "metadata": {},
   "outputs": [],
   "source": [
    "def map_union(func, iterables):\n",
    "    '''set union of the results from `func` applied to items in `iterables`\n",
    "    '''\n",
    "    return set().union(*[set(func(item)) for item in iterables])"
   ]
  },
  {
   "cell_type": "code",
   "execution_count": null,
   "metadata": {},
   "outputs": [],
   "source": [
    "envs = remove_element(get_all_conda_envs(), ('jupyterlab', 'ISR', 'sage'))"
   ]
  },
  {
   "cell_type": "code",
   "execution_count": null,
   "metadata": {},
   "outputs": [],
   "source": [
    "envs"
   ]
  },
  {
   "cell_type": "markdown",
   "metadata": {},
   "source": [
    "# Conda"
   ]
  },
  {
   "cell_type": "code",
   "execution_count": null,
   "metadata": {},
   "outputs": [],
   "source": [
    "# set of all user installed packages in envs\n",
    "result = map_union(get_user_installed_packages, envs)"
   ]
  },
  {
   "cell_type": "code",
   "execution_count": null,
   "metadata": {},
   "outputs": [],
   "source": [
    "with open(os.path.expanduser('~/git/source/reproducible-os-environments/common/conda/conda-all.txt'), 'r') as f:\n",
    "    txt_all = [word.lstrip('#').strip() for word in f.readlines() if word.lstrip('#').strip()]"
   ]
  },
  {
   "cell_type": "code",
   "execution_count": null,
   "metadata": {},
   "outputs": [],
   "source": [
    "with open(os.path.expanduser('~/git/source/reproducible-os-environments/common/conda/conda.txt'), 'r') as f:\n",
    "    txt = [word.lstrip('#').strip() for word in f.readlines() if word.lstrip('#').strip()]"
   ]
  },
  {
   "cell_type": "code",
   "execution_count": null,
   "metadata": {},
   "outputs": [],
   "source": [
    "# user installed packages not in conda-all.txt\n",
    "sorted(i for i in result if i not in txt_all)"
   ]
  },
  {
   "cell_type": "code",
   "execution_count": null,
   "metadata": {},
   "outputs": [],
   "source": [
    "# packages in conda.txt not in conda-all.txt\n",
    "sorted(i for i in txt if i not in txt_all)"
   ]
  },
  {
   "cell_type": "markdown",
   "metadata": {},
   "source": [
    "# pip"
   ]
  },
  {
   "cell_type": "code",
   "execution_count": null,
   "metadata": {},
   "outputs": [],
   "source": [
    "# all pypi packages from envs\n",
    "pip_packages = map_union(filter_channels, envs)"
   ]
  },
  {
   "cell_type": "code",
   "execution_count": null,
   "metadata": {},
   "outputs": [],
   "source": [
    "with open(os.path.expanduser('~/git/source/reproducible-os-environments/common/conda/pip-all.txt'), 'r') as f:\n",
    "    txt_all = [word.lstrip('#').strip() for word in f.readlines() if word.lstrip('#').strip()]"
   ]
  },
  {
   "cell_type": "code",
   "execution_count": null,
   "metadata": {},
   "outputs": [],
   "source": [
    "with open(os.path.expanduser('~/git/source/reproducible-os-environments/common/conda/pip.txt'), 'r') as f:\n",
    "    txt = [word.lstrip('#').strip() for word in f.readlines() if word.lstrip('#').strip()]"
   ]
  },
  {
   "cell_type": "code",
   "execution_count": null,
   "metadata": {},
   "outputs": [],
   "source": [
    "# pypi packages not in pip-all.txt\n",
    "sorted(i for i in pip_packages if i not in txt_all)"
   ]
  },
  {
   "cell_type": "code",
   "execution_count": null,
   "metadata": {},
   "outputs": [],
   "source": [
    "# packages in pip.txt not in pip-all.txt\n",
    "sorted(i for i in txt if i not in txt_all)"
   ]
  }
 ],
 "metadata": {
  "kernelspec": {
   "display_name": "all3-intel",
   "language": "python",
   "name": "all3-intel"
  },
  "language_info": {
   "codemirror_mode": {
    "name": "ipython",
    "version": 3
   },
   "file_extension": ".py",
   "mimetype": "text/x-python",
   "name": "python",
   "nbconvert_exporter": "python",
   "pygments_lexer": "ipython3",
   "version": "3.6.8"
  }
 },
 "nbformat": 4,
 "nbformat_minor": 2
}
