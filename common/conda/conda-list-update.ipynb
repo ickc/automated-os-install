{
 "cells": [
  {
   "cell_type": "code",
   "execution_count": null,
   "metadata": {},
   "outputs": [],
   "source": [
    "import os\n",
    "import subprocess\n",
    "\n",
    "from collections import OrderedDict\n",
    "from operator import or_\n",
    "from pprint import pprint\n",
    "from functools import reduce"
   ]
  },
  {
   "cell_type": "code",
   "execution_count": null,
   "metadata": {},
   "outputs": [],
   "source": [
    "import numpy as np\n",
    "import pandas as pd\n",
    "import ujson\n",
    "import yaml\n",
    "import yamlloader"
   ]
  },
  {
   "cell_type": "code",
   "execution_count": null,
   "metadata": {},
   "outputs": [],
   "source": [
    "from conda.cli.python_api import run_command, Commands\n",
    "from conda.history import History"
   ]
  },
  {
   "cell_type": "code",
   "execution_count": null,
   "metadata": {},
   "outputs": [],
   "source": [
    "from conda_env import PY2_PACKAGES"
   ]
  },
  {
   "cell_type": "code",
   "execution_count": null,
   "metadata": {},
   "outputs": [],
   "source": [
    "def get_all_conda_envs():\n",
    "    '''return all conda environment paths excluding base/root\n",
    "\n",
    "    using conda's Python API\n",
    "    '''\n",
    "    return [\n",
    "        env\n",
    "        for env in ujson.loads(run_command(Commands.INFO, '--json')[0])['envs']\n",
    "        if '/envs/' in env # filter out the root/base env\n",
    "    ]"
   ]
  },
  {
   "cell_type": "code",
   "execution_count": null,
   "metadata": {},
   "outputs": [],
   "source": [
    "def conda_list(env):\n",
    "    '''return a DataFrame representation of ``conda list`` for environment at `env`\n",
    "\n",
    "    this one uses the conda Python API that excludes pip installed packages\n",
    "    '''\n",
    "    temp = ujson.loads(run_command(Commands.LIST, '--prefix', env, '--json')[0])\n",
    "    df = pd.DataFrame(temp)\n",
    "    df.set_index('name', inplace=True)\n",
    "    return df"
   ]
  },
  {
   "cell_type": "code",
   "execution_count": null,
   "metadata": {},
   "outputs": [],
   "source": [
    "def conda_list_subprocess(env):\n",
    "    '''return a DataFrame representation of ``conda list`` for environment at `env`\n",
    "\n",
    "    this one uses the cli directly that includes pip installed packages\n",
    "    '''\n",
    "    temp = ujson.loads(subprocess.run(('conda', 'list', '--prefix', env, '--json'), stdout=subprocess.PIPE).stdout)\n",
    "    df = pd.DataFrame(temp)\n",
    "    df.set_index('name', inplace=True)\n",
    "    return df"
   ]
  },
  {
   "cell_type": "code",
   "execution_count": null,
   "metadata": {},
   "outputs": [],
   "source": [
    "def get_user_installed_packages(env):\n",
    "    '''return user installed packages in prefix `env`\n",
    "\n",
    "    using undocumented conda Python API, see\n",
    "    https://github.com/conda/conda/issues/4545#issuecomment-469984684\n",
    "    '''\n",
    "    history = History(env)\n",
    "    return history.get_requested_specs_map().keys()"
   ]
  },
  {
   "cell_type": "code",
   "execution_count": null,
   "metadata": {},
   "outputs": [],
   "source": [
    "def filter_channels(env, channels=('pypi',)):\n",
    "    '''return packages from `channels` in environment `env`\n",
    "    '''\n",
    "    df = conda_list_subprocess(env)\n",
    "    return df[df.channel.isin(channels)].index"
   ]
  },
  {
   "cell_type": "code",
   "execution_count": null,
   "metadata": {},
   "outputs": [],
   "source": [
    "def remove_element(list_, elements):\n",
    "    '''filter out items in `list_` that contains element in `elements`\n",
    "    '''\n",
    "    return [\n",
    "        item for item in list_\n",
    "        if not reduce(\n",
    "            or_,\n",
    "            (element in item for element in elements)\n",
    "        )\n",
    "    ]"
   ]
  },
  {
   "cell_type": "code",
   "execution_count": null,
   "metadata": {},
   "outputs": [],
   "source": [
    "def map_union(func, iterables):\n",
    "    '''set union of the results from `func` applied to items in `iterables`\n",
    "    '''\n",
    "    return set().union(*[set(func(item)) for item in iterables])"
   ]
  },
  {
   "cell_type": "code",
   "execution_count": null,
   "metadata": {},
   "outputs": [],
   "source": [
    "envs = remove_element(get_all_conda_envs(), ('jupyterlab', 'ISR', 'sage', 'data100', 'acx'))"
   ]
  },
  {
   "cell_type": "markdown",
   "metadata": {},
   "source": [
    "List of environments that will be inspected:"
   ]
  },
  {
   "cell_type": "code",
   "execution_count": null,
   "metadata": {},
   "outputs": [],
   "source": [
    "envs"
   ]
  },
  {
   "cell_type": "markdown",
   "metadata": {},
   "source": [
    "# Conda"
   ]
  },
  {
   "cell_type": "code",
   "execution_count": null,
   "metadata": {},
   "outputs": [],
   "source": [
    "# set of all user installed packages in envs\n",
    "conda_packages = map_union(get_user_installed_packages, envs)"
   ]
  },
  {
   "cell_type": "code",
   "execution_count": null,
   "metadata": {},
   "outputs": [],
   "source": [
    "with open(os.path.expanduser('conda-all.txt'), 'r') as f:\n",
    "    conda_all = set(word.lstrip('#').strip() for word in f.readlines() if word.lstrip('#').strip())"
   ]
  },
  {
   "cell_type": "code",
   "execution_count": null,
   "metadata": {},
   "outputs": [],
   "source": [
    "with open(os.path.expanduser('conda.txt'), 'r') as f:\n",
    "    conda = set(word.lstrip('#').strip() for word in f.readlines() if word.lstrip('#').strip())"
   ]
  },
  {
   "cell_type": "code",
   "execution_count": null,
   "metadata": {},
   "outputs": [],
   "source": [
    "conda_all |= conda"
   ]
  },
  {
   "cell_type": "code",
   "execution_count": null,
   "metadata": {},
   "outputs": [],
   "source": [
    "conda_all2 = conda_all | set(PY2_PACKAGES)"
   ]
  },
  {
   "cell_type": "markdown",
   "metadata": {},
   "source": [
    "User installed packages not in `conda-all.txt` or `conda.txt`"
   ]
  },
  {
   "cell_type": "code",
   "execution_count": null,
   "metadata": {},
   "outputs": [],
   "source": [
    "list(map(print, sorted(conda_packages - conda_all2)));"
   ]
  },
  {
   "cell_type": "markdown",
   "metadata": {},
   "source": [
    "in `conda-all.txt` or `conda.txt` but not installed"
   ]
  },
  {
   "cell_type": "code",
   "execution_count": null,
   "metadata": {},
   "outputs": [],
   "source": [
    "list(map(print, sorted(conda_all2 - conda_packages)));"
   ]
  },
  {
   "cell_type": "markdown",
   "metadata": {},
   "source": [
    "# pip"
   ]
  },
  {
   "cell_type": "code",
   "execution_count": null,
   "metadata": {},
   "outputs": [],
   "source": [
    "# all pypi packages from envs\n",
    "pip_packages = map_union(filter_channels, envs)"
   ]
  },
  {
   "cell_type": "code",
   "execution_count": null,
   "metadata": {},
   "outputs": [],
   "source": [
    "with open(os.path.expanduser('pip-all.txt'), 'r') as f:\n",
    "    pip_all = set(word.lstrip('#').strip() for word in f.readlines() if word.lstrip('#').strip())"
   ]
  },
  {
   "cell_type": "code",
   "execution_count": null,
   "metadata": {},
   "outputs": [],
   "source": [
    "with open(os.path.expanduser('pip.txt'), 'r') as f:\n",
    "    pip = set(word.lstrip('#').strip() for word in f.readlines() if word.lstrip('#').strip())"
   ]
  },
  {
   "cell_type": "code",
   "execution_count": null,
   "metadata": {},
   "outputs": [],
   "source": [
    "pip_all |= pip"
   ]
  },
  {
   "cell_type": "markdown",
   "metadata": {},
   "source": [
    "pypi packages not in `pip-all.txt` or `pip.txt`"
   ]
  },
  {
   "cell_type": "code",
   "execution_count": null,
   "metadata": {},
   "outputs": [],
   "source": [
    "list(map(print, sorted(pip_packages - pip_all)));"
   ]
  },
  {
   "cell_type": "markdown",
   "metadata": {},
   "source": [
    "in `pip-all.txt` or `pip.txt` but not installed"
   ]
  },
  {
   "cell_type": "code",
   "execution_count": null,
   "metadata": {},
   "outputs": [],
   "source": [
    "list(map(print, sorted(pip_all - pip_packages)));"
   ]
  },
  {
   "cell_type": "markdown",
   "metadata": {},
   "source": [
    "# Intersection of Anaconda supported packages\n",
    "\n",
    "Create an environment named `acx`, which stands for Anaconda extended, as an intersection of packages installed and those supported by Anaconda"
   ]
  },
  {
   "cell_type": "code",
   "execution_count": null,
   "metadata": {},
   "outputs": [],
   "source": [
    "df_linux = pd.read_html('https://docs.anaconda.com/anaconda/packages/py3.7_linux-64/', header=0, index_col=0)[0]"
   ]
  },
  {
   "cell_type": "code",
   "execution_count": null,
   "metadata": {},
   "outputs": [],
   "source": [
    "df_mac = pd.read_html('https://docs.anaconda.com/anaconda/packages/py3.7_osx-64/', header=0, index_col=0)[0]"
   ]
  },
  {
   "cell_type": "code",
   "execution_count": null,
   "metadata": {},
   "outputs": [],
   "source": [
    "# The pandas parser didn't pick up the ticks in last column\n",
    "np.all(df_linux['In Installer'].isna()), np.all(df_mac['In Installer'].isna())"
   ]
  },
  {
   "cell_type": "code",
   "execution_count": null,
   "metadata": {},
   "outputs": [],
   "source": [
    "conda_supported_packages_linux = set(df_linux.index)\n",
    "conda_supported_packages_mac = set(df_mac.index)\n",
    "conda_supported_packages = conda_supported_packages_linux | conda_supported_packages_mac"
   ]
  },
  {
   "cell_type": "code",
   "execution_count": null,
   "metadata": {},
   "outputs": [],
   "source": [
    "len(conda_supported_packages_mac), len(conda_supported_packages_linux), len(conda_supported_packages)"
   ]
  },
  {
   "cell_type": "code",
   "execution_count": null,
   "metadata": {},
   "outputs": [],
   "source": [
    "# packages in conda_all.txt or conda.txt, that's supported by Anaconda\n",
    "conda_filtered_linux = conda_all & conda_supported_packages_linux\n",
    "conda_filtered_mac = conda_all & conda_supported_packages_mac\n",
    "conda_filtered = conda_filtered_mac & conda_filtered_linux\n",
    "len(conda_filtered), len(conda_filtered_mac), len(conda_filtered_linux), conda_filtered_linux - conda_filtered_mac"
   ]
  },
  {
   "cell_type": "code",
   "execution_count": null,
   "metadata": {},
   "outputs": [],
   "source": [
    "conda_filtered.update({'anaconda', 'panflute', 'cytoolz'})"
   ]
  },
  {
   "cell_type": "code",
   "execution_count": null,
   "metadata": {},
   "outputs": [],
   "source": [
    "conda_filtered = sorted(conda_filtered)"
   ]
  },
  {
   "cell_type": "code",
   "execution_count": null,
   "metadata": {},
   "outputs": [],
   "source": [
    "len(conda_filtered)"
   ]
  },
  {
   "cell_type": "code",
   "execution_count": null,
   "metadata": {},
   "outputs": [],
   "source": [
    "with open('acx.yml', 'w') as f:\n",
    "    yaml.dump(\n",
    "        OrderedDict((\n",
    "            ('name', 'acx'),\n",
    "            ('channels', ['defaults']),\n",
    "            ('dependencies', conda_filtered)\n",
    "        )),\n",
    "        f,\n",
    "        Dumper=yamlloader.ordereddict.CSafeDumper,\n",
    "        default_flow_style=False\n",
    "    )"
   ]
  }
 ],
 "metadata": {
  "kernelspec": {
   "display_name": "all3-defaults",
   "language": "python",
   "name": "all3-defaults"
  },
  "language_info": {
   "codemirror_mode": {
    "name": "ipython",
    "version": 3
   },
   "file_extension": ".py",
   "mimetype": "text/x-python",
   "name": "python",
   "nbconvert_exporter": "python",
   "pygments_lexer": "ipython3",
   "version": "3.7.5"
  }
 },
 "nbformat": 4,
 "nbformat_minor": 4
}
