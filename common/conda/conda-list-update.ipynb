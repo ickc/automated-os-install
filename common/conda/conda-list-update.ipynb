{
 "cells": [
  {
   "cell_type": "code",
   "execution_count": null,
   "metadata": {},
   "outputs": [],
   "source": [
    "import os\n",
    "from pathlib import Path\n",
    "import subprocess\n",
    "\n",
    "from collections import OrderedDict\n",
    "from operator import or_\n",
    "from pprint import pprint\n",
    "from functools import reduce, partial"
   ]
  },
  {
   "cell_type": "code",
   "execution_count": null,
   "metadata": {},
   "outputs": [],
   "source": [
    "from itertools import product"
   ]
  },
  {
   "cell_type": "code",
   "execution_count": null,
   "metadata": {},
   "outputs": [],
   "source": [
    "import numpy as np\n",
    "import pandas as pd\n",
    "import ujson\n",
    "import yaml\n",
    "import yamlloader"
   ]
  },
  {
   "cell_type": "code",
   "execution_count": null,
   "metadata": {},
   "outputs": [],
   "source": [
    "from IPython.display import display"
   ]
  },
  {
   "cell_type": "code",
   "execution_count": null,
   "metadata": {},
   "outputs": [],
   "source": [
    "from conda.cli.python_api import run_command, Commands\n",
    "from conda.history import History"
   ]
  },
  {
   "cell_type": "code",
   "execution_count": null,
   "metadata": {},
   "outputs": [],
   "source": [
    "from conda_env import PY2_PACKAGES"
   ]
  },
  {
   "cell_type": "code",
   "execution_count": null,
   "metadata": {},
   "outputs": [],
   "source": [
    "from dautil.util import map_parallel"
   ]
  },
  {
   "cell_type": "code",
   "execution_count": null,
   "metadata": {},
   "outputs": [],
   "source": [
    "os.environ['PATH'] = f'{Path(\"~/.homebrew/anaconda3/bin\").expanduser()}:{os.environ[\"PATH\"]}'"
   ]
  },
  {
   "cell_type": "code",
   "execution_count": null,
   "metadata": {},
   "outputs": [],
   "source": [
    "def get_all_conda_envs():\n",
    "    '''return all conda environment paths excluding base/root\n",
    "\n",
    "    using conda's Python API\n",
    "    '''\n",
    "    return [\n",
    "        env\n",
    "        for env in ujson.loads(run_command(Commands.INFO, '--json')[0])['envs']\n",
    "        if '/envs/' in env # filter out the root/base env\n",
    "    ]"
   ]
  },
  {
   "cell_type": "code",
   "execution_count": null,
   "metadata": {},
   "outputs": [],
   "source": [
    "def conda_list(env):\n",
    "    '''return a DataFrame representation of ``conda list`` for environment at `env`\n",
    "\n",
    "    this one uses the conda Python API that excludes pip installed packages\n",
    "    '''\n",
    "    temp = ujson.loads(run_command(Commands.LIST, '--prefix', env, '--json')[0])\n",
    "    df = pd.DataFrame(temp)\n",
    "    df.set_index('name', inplace=True)\n",
    "    return df"
   ]
  },
  {
   "cell_type": "code",
   "execution_count": null,
   "metadata": {},
   "outputs": [],
   "source": [
    "def conda_list_subprocess(env):\n",
    "    '''return a DataFrame representation of ``conda list`` for environment at `env`\n",
    "\n",
    "    this one uses the cli directly that includes pip installed packages\n",
    "    '''\n",
    "    temp = ujson.loads(subprocess.run(('conda', 'list', '--prefix', env, '--json'), stdout=subprocess.PIPE).stdout)\n",
    "    df = pd.DataFrame(temp)\n",
    "    df.set_index('name', inplace=True)\n",
    "    return df"
   ]
  },
  {
   "cell_type": "code",
   "execution_count": null,
   "metadata": {},
   "outputs": [],
   "source": [
    "def conda_check_compat_python_version(version, package, debug=False):\n",
    "    '''check if a package is compatible with a Python version\n",
    "    '''\n",
    "    temp = subprocess.run(('conda', 'create', '--dry-run', '--json', '-n', f'conda_check_compat_python_version', f'python={version}', package), stdout=subprocess.PIPE)\n",
    "    if debug:\n",
    "        return temp\n",
    "    return not bool(temp.returncode)"
   ]
  },
  {
   "cell_type": "code",
   "execution_count": null,
   "metadata": {},
   "outputs": [],
   "source": [
    "def get_user_installed_packages(env):\n",
    "    '''return user installed packages in prefix `env`\n",
    "\n",
    "    using undocumented conda Python API, see\n",
    "    https://github.com/conda/conda/issues/4545#issuecomment-469984684\n",
    "    '''\n",
    "    history = History(env)\n",
    "    return history.get_requested_specs_map().keys()"
   ]
  },
  {
   "cell_type": "code",
   "execution_count": null,
   "metadata": {},
   "outputs": [],
   "source": [
    "def filter_channels(env, channels=('pypi',)):\n",
    "    '''return packages from `channels` in environment `env`\n",
    "    '''\n",
    "    df = conda_list_subprocess(env)\n",
    "    return df[df.channel.isin(channels)].index"
   ]
  },
  {
   "cell_type": "code",
   "execution_count": null,
   "metadata": {},
   "outputs": [],
   "source": [
    "def remove_element(list_, elements):\n",
    "    '''filter out items in `list_` that contains element in `elements`\n",
    "    '''\n",
    "    return [\n",
    "        item for item in list_\n",
    "        if not reduce(\n",
    "            or_,\n",
    "            (element in item for element in elements)\n",
    "        )\n",
    "    ]"
   ]
  },
  {
   "cell_type": "code",
   "execution_count": null,
   "metadata": {},
   "outputs": [],
   "source": [
    "def map_union(func, iterables):\n",
    "    '''set union of the results from `func` applied to items in `iterables`\n",
    "    '''\n",
    "    return set().union(*[set(func(item)) for item in iterables])"
   ]
  },
  {
   "cell_type": "code",
   "execution_count": null,
   "metadata": {},
   "outputs": [],
   "source": [
    "def get_url(version, os):\n",
    "    assert os in ('linux', 'osx')\n",
    "    if version == '2.7':\n",
    "        # from https://docs.anaconda.com/anaconda/packages/oldpkglists/\n",
    "        url = 'https://docs.anaconda.com/anaconda/packages/old-pkg-lists/2019.10/py{version}_{os}-64/'\n",
    "    else:\n",
    "        # from https://docs.anaconda.com/anaconda/packages/pkg-docs/\n",
    "        url = 'https://docs.anaconda.com/anaconda/packages/py{version}_{os}-64/'\n",
    "    return url.format(version=version, os=os)"
   ]
  },
  {
   "cell_type": "code",
   "execution_count": null,
   "metadata": {},
   "outputs": [],
   "source": [
    "def get_df(version, os):\n",
    "    df = pd.read_html(get_url(version, os), header=0, index_col=0)[0]\n",
    "    assert np.all(df['In Installer'].isna())\n",
    "    df.drop('In Installer', axis=1, inplace=True)\n",
    "    return df"
   ]
  },
  {
   "cell_type": "code",
   "execution_count": null,
   "metadata": {},
   "outputs": [],
   "source": [
    "def diff(left, right):\n",
    "    df_left = get_df(*left)\n",
    "    df_right = get_df(*right)\n",
    "\n",
    "    idx_left = set(df_left.index)\n",
    "    idx_right = set(df_right.index)\n",
    "\n",
    "    idx_left_only = idx_left - idx_right\n",
    "    idx_right_only = idx_right - idx_left\n",
    "    return df_left.loc[idx_left_only], df_right.loc[idx_right_only]"
   ]
  },
  {
   "cell_type": "code",
   "execution_count": null,
   "metadata": {},
   "outputs": [],
   "source": [
    "envs = remove_element(get_all_conda_envs(), ('jupyterlab', 'ISR', 'sage', 'data100', 'acx'))"
   ]
  },
  {
   "cell_type": "markdown",
   "metadata": {},
   "source": [
    "List of environments that will be inspected:"
   ]
  },
  {
   "cell_type": "code",
   "execution_count": null,
   "metadata": {},
   "outputs": [],
   "source": [
    "envs"
   ]
  },
  {
   "cell_type": "markdown",
   "metadata": {},
   "source": [
    "# Conda"
   ]
  },
  {
   "cell_type": "code",
   "execution_count": null,
   "metadata": {},
   "outputs": [],
   "source": [
    "# set of all user installed packages in envs\n",
    "conda_packages = map_union(get_user_installed_packages, envs)"
   ]
  },
  {
   "cell_type": "code",
   "execution_count": null,
   "metadata": {},
   "outputs": [],
   "source": [
    "with open(os.path.expanduser('conda-all.txt'), 'r') as f:\n",
    "    conda_all = set(word.lstrip('#').strip() for word in f.readlines() if word.lstrip('#').strip())"
   ]
  },
  {
   "cell_type": "code",
   "execution_count": null,
   "metadata": {},
   "outputs": [],
   "source": [
    "with open(os.path.expanduser('conda.txt'), 'r') as f:\n",
    "    conda = set(word.lstrip('#').strip() for word in f.readlines() if word.lstrip('#').strip())"
   ]
  },
  {
   "cell_type": "code",
   "execution_count": null,
   "metadata": {},
   "outputs": [],
   "source": [
    "conda_all |= conda"
   ]
  },
  {
   "cell_type": "code",
   "execution_count": null,
   "metadata": {},
   "outputs": [],
   "source": [
    "conda_all2 = conda_all | set(PY2_PACKAGES)"
   ]
  },
  {
   "cell_type": "markdown",
   "metadata": {},
   "source": [
    "User installed packages not in `conda-all.txt` or `conda.txt`"
   ]
  },
  {
   "cell_type": "code",
   "execution_count": null,
   "metadata": {},
   "outputs": [],
   "source": [
    "list(map(print, sorted(conda_packages - conda_all2)));"
   ]
  },
  {
   "cell_type": "markdown",
   "metadata": {},
   "source": [
    "in `conda-all.txt` or `conda.txt` but not installed"
   ]
  },
  {
   "cell_type": "code",
   "execution_count": null,
   "metadata": {},
   "outputs": [],
   "source": [
    "list(map(print, sorted(conda_all2 - conda_packages)));"
   ]
  },
  {
   "cell_type": "markdown",
   "metadata": {},
   "source": [
    "# pip"
   ]
  },
  {
   "cell_type": "code",
   "execution_count": null,
   "metadata": {},
   "outputs": [],
   "source": [
    "# all pypi packages from envs\n",
    "pip_packages = map_union(filter_channels, envs)"
   ]
  },
  {
   "cell_type": "code",
   "execution_count": null,
   "metadata": {},
   "outputs": [],
   "source": [
    "with open(os.path.expanduser('pip-all.txt'), 'r') as f:\n",
    "    pip_all = set(word.lstrip('#').strip() for word in f.readlines() if word.lstrip('#').strip())"
   ]
  },
  {
   "cell_type": "code",
   "execution_count": null,
   "metadata": {},
   "outputs": [],
   "source": [
    "with open(os.path.expanduser('pip.txt'), 'r') as f:\n",
    "    pip = set(word.lstrip('#').strip() for word in f.readlines() if word.lstrip('#').strip())"
   ]
  },
  {
   "cell_type": "code",
   "execution_count": null,
   "metadata": {},
   "outputs": [],
   "source": [
    "pip_all |= pip"
   ]
  },
  {
   "cell_type": "markdown",
   "metadata": {},
   "source": [
    "pypi packages not in `pip-all.txt` or `pip.txt`"
   ]
  },
  {
   "cell_type": "code",
   "execution_count": null,
   "metadata": {},
   "outputs": [],
   "source": [
    "list(map(print, sorted(pip_packages - pip_all)));"
   ]
  },
  {
   "cell_type": "markdown",
   "metadata": {},
   "source": [
    "in `pip-all.txt` or `pip.txt` but not installed"
   ]
  },
  {
   "cell_type": "code",
   "execution_count": null,
   "metadata": {},
   "outputs": [],
   "source": [
    "list(map(print, sorted(pip_all - pip_packages)));"
   ]
  },
  {
   "cell_type": "markdown",
   "metadata": {},
   "source": [
    "# Inspect packages not compatible with Python 3.8"
   ]
  },
  {
   "cell_type": "code",
   "execution_count": null,
   "metadata": {},
   "outputs": [],
   "source": [
    "conda_all_tuple = tuple(conda_all)"
   ]
  },
  {
   "cell_type": "code",
   "execution_count": null,
   "metadata": {},
   "outputs": [],
   "source": [
    "%time conda_compat = map_parallel(partial(conda_check_compat_python_version, '3.8'), conda_all_tuple, mode='multithreading', processes=os.cpu_count())"
   ]
  },
  {
   "cell_type": "code",
   "execution_count": null,
   "metadata": {},
   "outputs": [],
   "source": [
    "df_compat = pd.DataFrame(conda_compat, index=conda_all_tuple, columns=['is_compat'])"
   ]
  },
  {
   "cell_type": "code",
   "execution_count": null,
   "metadata": {},
   "outputs": [],
   "source": [
    "df_compat[~df_compat.is_compat]"
   ]
  },
  {
   "cell_type": "markdown",
   "metadata": {},
   "source": [
    "# Inspect packages not supported by Anaconda"
   ]
  },
  {
   "cell_type": "raw",
   "metadata": {},
   "source": [
    "for version in ('2.7', '3.6', '3.7', '3.8'):\n",
    "    for os in ('osx', 'linux'):\n",
    "        print(version, os)\n",
    "        display(get_df(version, os))"
   ]
  },
  {
   "cell_type": "raw",
   "metadata": {},
   "source": [
    "versions = ('2.7', '3.6', '3.7', '3.8')\n",
    "oses = ('osx', 'linux')\n",
    "\n",
    "versions_oses = list(product(versions, oses))\n",
    "n = len(versions_oses)\n",
    "for i in range(n):\n",
    "    for j in range(i + 1, n):\n",
    "        version, os = versions_oses[i]\n",
    "        version_right, os_right = versions_oses[j]\n",
    "\n",
    "        df_left, df_right = diff((version, os), (version_right, os_right))\n",
    "        print((version, os), (version_right, os_right))\n",
    "        display(df_left)\n",
    "        display(df_right)"
   ]
  },
  {
   "cell_type": "code",
   "execution_count": null,
   "metadata": {},
   "outputs": [],
   "source": [
    "version = '3.8'\n",
    "os = 'linux'"
   ]
  },
  {
   "cell_type": "code",
   "execution_count": null,
   "metadata": {},
   "outputs": [],
   "source": [
    "df = get_df(version, os)"
   ]
  },
  {
   "cell_type": "code",
   "execution_count": null,
   "metadata": {},
   "outputs": [],
   "source": [
    "conda_all - set(df.index.values)"
   ]
  },
  {
   "cell_type": "markdown",
   "metadata": {},
   "source": [
    "# Intersection of Anaconda supported packages\n",
    "\n",
    "Create an environment named `acx`, which stands for Anaconda extended, as an intersection of packages installed and those supported by Anaconda"
   ]
  },
  {
   "cell_type": "code",
   "execution_count": null,
   "metadata": {},
   "outputs": [],
   "source": [
    "df_linux = get_df('3.8', 'linux')"
   ]
  },
  {
   "cell_type": "code",
   "execution_count": null,
   "metadata": {},
   "outputs": [],
   "source": [
    "df_mac = get_df('3.8', 'osx')"
   ]
  },
  {
   "cell_type": "code",
   "execution_count": null,
   "metadata": {},
   "outputs": [],
   "source": [
    "conda_supported_packages_linux = set(df_linux.index)\n",
    "conda_supported_packages_mac = set(df_mac.index)\n",
    "conda_supported_packages = conda_supported_packages_linux | conda_supported_packages_mac"
   ]
  },
  {
   "cell_type": "code",
   "execution_count": null,
   "metadata": {},
   "outputs": [],
   "source": [
    "len(conda_supported_packages_mac), len(conda_supported_packages_linux), len(conda_supported_packages)"
   ]
  },
  {
   "cell_type": "code",
   "execution_count": null,
   "metadata": {},
   "outputs": [],
   "source": [
    "# packages in conda_all.txt or conda.txt, that's supported by Anaconda\n",
    "conda_filtered_linux = conda_all & conda_supported_packages_linux\n",
    "conda_filtered_mac = conda_all & conda_supported_packages_mac\n",
    "conda_filtered = conda_filtered_mac & conda_filtered_linux\n",
    "len(conda_filtered), len(conda_filtered_mac), len(conda_filtered_linux), conda_filtered_linux - conda_filtered_mac"
   ]
  },
  {
   "cell_type": "code",
   "execution_count": null,
   "metadata": {},
   "outputs": [],
   "source": [
    "conda_filtered.update({'anaconda', 'panflute', 'cytoolz'})"
   ]
  },
  {
   "cell_type": "code",
   "execution_count": null,
   "metadata": {},
   "outputs": [],
   "source": [
    "conda_filtered = sorted(conda_filtered)"
   ]
  },
  {
   "cell_type": "code",
   "execution_count": null,
   "metadata": {},
   "outputs": [],
   "source": [
    "len(conda_filtered)"
   ]
  },
  {
   "cell_type": "code",
   "execution_count": null,
   "metadata": {},
   "outputs": [],
   "source": [
    "with open('acx.yml', 'w') as f:\n",
    "    yaml.dump(\n",
    "        OrderedDict((\n",
    "            ('name', 'acx'),\n",
    "            ('channels', ['defaults']),\n",
    "            ('dependencies', conda_filtered)\n",
    "        )),\n",
    "        f,\n",
    "        Dumper=yamlloader.ordereddict.CSafeDumper,\n",
    "        default_flow_style=False\n",
    "    )"
   ]
  }
 ],
 "metadata": {
  "kernelspec": {
   "display_name": "all3-defaults",
   "language": "python",
   "name": "all3-defaults"
  },
  "language_info": {
   "codemirror_mode": {
    "name": "ipython",
    "version": 3
   },
   "file_extension": ".py",
   "mimetype": "text/x-python",
   "name": "python",
   "nbconvert_exporter": "python",
   "pygments_lexer": "ipython3",
   "version": "3.7.7"
  }
 },
 "nbformat": 4,
 "nbformat_minor": 4
}
